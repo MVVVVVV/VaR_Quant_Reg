{
 "cells": [
  {
   "cell_type": "code",
   "execution_count": 45,
   "metadata": {},
   "outputs": [
    {
     "name": "stderr",
     "output_type": "stream",
     "text": [
      "C:\\Users\\baptc\\Anaconda3\\lib\\site-packages\\ipykernel_launcher.py:10: RuntimeWarning: invalid value encountered in log\n",
      "  # Remove the CWD from sys.path while we load stuff.\n"
     ]
    }
   ],
   "source": [
    "import numpy as np\n",
    "import pandas as pd\n",
    "import pandas_datareader as pdr\n",
    "import datetime\n",
    "\n",
    "\n",
    "def get_rendements(stocks,début,fin): #date=yyyy-mm-dd en string\n",
    "    prix=pdr.get_data_yahoo(stocks,start=début,end=fin)['Close'] \n",
    "    returns=prix.pct_change()\n",
    "    logrdt=np.log(1+returns)*100\n",
    "    logrdt=logrdt.iloc[1:]\n",
    "    returns=returns.iloc[1:]\n",
    "    prix=prix.iloc[1:]\n",
    "    return  returns, prix, logrdt\n",
    "\n",
    "stocks=['AAPL','AXP','BA', 'CAT', 'CSCO', 'CVX','DD','DIS','GE','HD','HPQ','IBM','INTC','JNJ','JPM','KO','MCD','MMM','MRK','MSFT','NKE','PFE','PG','RTX','T','TRV','UNH','VZ','WMT','XOM']\n",
    "début='1995-12-29'\n",
    "fin='2014-12-31'\n",
    "\n",
    "output=get_rendements(stocks, début, fin)\n",
    "rendements=output[0]\n",
    "prix=output[1]\n",
    "rdt_log=output[2]"
   ]
  },
  {
   "cell_type": "code",
   "execution_count": 2,
   "metadata": {},
   "outputs": [],
   "source": [
    "import numpy as np\n",
    "from scipy.stats import norm\n",
    "\n",
    "def VaR_Riskmetrics(rdt,var_quantile=0.01):\n",
    "    \"\"\"\n",
    "    RiskMetrics\n",
    "    \"\"\"\n",
    "    \n",
    "    # Calcul de la variance\n",
    "    sigma_t=np.var(rdt)\n",
    "    # Extraction du dernier rendement de la fenêtre\n",
    "    rdt_t=float(rdt.tail(1))\n",
    "    # Detremination du quantile\n",
    "    fi=norm.ppf(var_quantile)\n",
    "    \n",
    "    # Prevision du sigma avec la Formule Riskmetrics\n",
    "    sigma_t1=0.06*(rdt_t**2)+0.94*sigma_t\n",
    "    VaR=np.sqrt(sigma_t1)*fi\n",
    "    \n",
    "    \n",
    "    return VaR\n"
   ]
  },
  {
   "cell_type": "code",
   "execution_count": 44,
   "metadata": {},
   "outputs": [
    {
     "name": "stdout",
     "output_type": "stream",
     "text": [
      "0\n",
      "1\n",
      "2\n",
      "3\n",
      "4\n",
      "5\n",
      "6\n",
      "7\n",
      "8\n",
      "9\n",
      "10\n",
      "11\n",
      "12\n",
      "13\n",
      "14\n",
      "15\n",
      "16\n",
      "17\n",
      "18\n",
      "19\n",
      "20\n",
      "21\n",
      "22\n",
      "23\n",
      "24\n",
      "25\n",
      "26\n",
      "27\n",
      "28\n",
      "29\n"
     ]
    }
   ],
   "source": [
    "import numpy as np\n",
    "\n",
    "VaR_Riskmetrics_Asset=np.zeros((len(rdt_log),30))\n",
    "\n",
    "# Calcul des VaR des 30 actifs\n",
    "for j in range(0,30):\n",
    "    for i in range(250,len(rdt_log)):\n",
    "        VaR_Riskmetrics_Asset[i,j]=VaR_Riskmetrics(rdt_log.iloc[i-250:i,j],var_quantile=0.01)"
   ]
  },
  {
   "cell_type": "code",
   "execution_count": 35,
   "metadata": {},
   "outputs": [],
   "source": [
    "from pandas import*\n",
    "\n",
    "VaR_Riskmetrics_Asset_Resultat=DataFrame(VaR_Riskmetrics_Asset[2770:,:],index=rdt_log.index[2770:])"
   ]
  },
  {
   "cell_type": "code",
   "execution_count": 17,
   "metadata": {},
   "outputs": [],
   "source": [
    "\n",
    "\n",
    "# Fonction qui calcule le pourcentage de fois ou un rendement a été inférieur à la VAR\n",
    "# La fonction crée 3 graphiques pour les trois périodes\n",
    "# Les inputs sont des data frame : var_1 correspond aux VAR forecast de la 1ère période\n",
    "# rdt_log_1 correspond aux rendements de la période 1\n",
    "# même principe pour le reste \n",
    "# name correspond au nom de la méthode utilisé\n",
    "def kupiec(var_1,rdt_log_1,var_2,rdt_log_2,var_3,rdt_log_3,name):\n",
    "    \n",
    "    '''c'est la partie 1 du graphique'''\n",
    "    var=var_1\n",
    "    rdt_log=rdt_log_1\n",
    "    \n",
    "    resu=[]\n",
    "    p_un=rdt_log.shape[0]\n",
    "    for j in range(0,len(rdt_log.columns)): #on s'interesse à tous les actifs\n",
    "        rdt_logs=rdt_log.iloc[:,j]\n",
    "        var_s=var.iloc[:,j]\n",
    "        a=0\n",
    "        for i in range(0,p_un):\n",
    "            varr=var_s.iloc[i]\n",
    "            rdt=rdt_logs.iloc[i]\n",
    "\n",
    "            g_rdt=float(rdt)\n",
    "            g_var=float(varr)\n",
    "            #pour savoir si la Var a joué son rôle ou pas\n",
    "            if g_var>g_rdt:\n",
    "                a=a+1\n",
    "\n",
    "        final=a/p_un\n",
    "        resu.append(final)\n",
    "    \n",
    "    val=resu\n",
    "    \n",
    "    values=np.ones(len(rdt_log.columns))*0.005 #ici c'est pour tous les actifs\n",
    "    plt.figure(figsize=(10, 0.5))\n",
    "    un=plt.subplot(1,3,1)\n",
    "    plt.scatter(val, values, s=20)\n",
    "    plt.xticks([0.01,0.02,0.03])\n",
    "    plt.yticks([])\n",
    "    plt.xlim(0, 0.04)\n",
    "    plt.ylim(0, 0.01)\n",
    "    plt.axvline(x=0.01-2.58*(0.01*0.99/p_un)**0.5,color='black')\n",
    "    plt.axvline(x=0.01+2.58*(0.01*0.99/p_un)**0.5,color='black')\n",
    "    plt.axvline(x=0.01,color='grey')\n",
    "    plt.title('période du 03.01.2007 au 31.12.2014',fontsize=8)\n",
    "    plt.ylabel(name, fontsize=8)\n",
    "    \n",
    "    '''c'est la partie 2 du graphique'''\n",
    "    #c'est quasiement le même code que pour la première partie du graphique\n",
    "    var=var_2\n",
    "    rdt_log=rdt_log_2\n",
    "    \n",
    "    resu=[]\n",
    "    p_un=rdt_log.shape[0]\n",
    "    for j in range(0,len(rdt_log.columns)): \n",
    "        rdt_logs=rdt_log.iloc[:,j]\n",
    "        \n",
    "        var_s=var.iloc[:,j]\n",
    "        a=0\n",
    "        for i in range(0,p_un):\n",
    "            varr=var_s.iloc[i]\n",
    "            rdt=rdt_logs.iloc[i]\n",
    "\n",
    "            g_rdt=float(rdt)\n",
    "            g_var=float(varr)\n",
    "            \n",
    "            if g_var>g_rdt:\n",
    "                a=a+1\n",
    "\n",
    "        final=a/p_un\n",
    "        resu.append(final)\n",
    "    val=resu\n",
    "    values=np.ones(len(rdt_log.columns))*0.005 \n",
    "\n",
    "\n",
    "    deux=plt.subplot(1,3,2)\n",
    "    plt.scatter(val, values, s=20)\n",
    "    plt.xticks([0.01,0.02,0.03])\n",
    "    plt.yticks([])\n",
    "    plt.xlim(0, 0.04)\n",
    "    plt.ylim(0, 0.01)\n",
    "    plt.axvline(x=0.01-2.58*(0.01*0.99/p_un)**0.5,color='black')\n",
    "    plt.axvline(x=0.01+2.58*(0.01*0.99/p_un)**0.5,color='black')\n",
    "    plt.axvline(x=0.01,color='grey')\n",
    "    plt.title('période du 03.01.2007 au 31.12.2010',fontsize=8)\n",
    "    \n",
    "    \n",
    "    var=var_3\n",
    "    rdt_log=rdt_log_3\n",
    "    \n",
    "    resu=[]\n",
    "    p_un=rdt_log.shape[0]\n",
    "    for j in range(0,len(rdt_log.columns)): \n",
    "        rdt_logs=rdt_log.iloc[:,j]\n",
    "        \n",
    "        var_s=var.iloc[:,j]\n",
    "        a=0\n",
    "        for i in range(0,p_un):\n",
    "            varr=var_s.iloc[i]\n",
    "            rdt=rdt_logs.iloc[i]\n",
    "\n",
    "            g_rdt=float(rdt)\n",
    "            g_var=float(varr)\n",
    "            \n",
    "            if g_var>g_rdt:\n",
    "                a=a+1\n",
    "        final=a/p_un\n",
    "        resu.append(final)\n",
    "    val=resu\n",
    "    \n",
    "    \n",
    "    '''c'est la partie 3 du graphique'''\n",
    "    values=np.ones(len(rdt_log.columns))*0.005 \n",
    "\n",
    "    trois=plt.subplot(1,3,3)\n",
    "    plt.scatter(val, values, s=20)\n",
    "    plt.xticks([0.01,0.02,0.03])\n",
    "    plt.yticks([])\n",
    "    plt.xlim(0, 0.04)\n",
    "    plt.ylim(0, 0.01)\n",
    "    plt.axvline(x=0.01-2.58*(0.01*0.99/p_un)**0.5,color='black')\n",
    "    plt.axvline(x=0.01+2.58*(0.01*0.99/p_un)**0.5,color='black')\n",
    "    plt.axvline(x=0.01,color='grey')\n",
    "    plt.title('période du 03.01.2011 au 31.12.2014',fontsize=8)\n",
    "\n",
    "    \n",
    "    plt.show()"
   ]
  },
  {
   "cell_type": "code",
   "execution_count": 36,
   "metadata": {},
   "outputs": [
    {
     "data": {
      "image/png": "[encoded data removed]",
      "text/plain": [
       "<Figure size 720x36 with 3 Axes>"
      ]
     },
     "metadata": {
      "needs_background": "light"
     },
     "output_type": "display_data"
    }
   ],
   "source": [
    "kupiec(VaR_Riskmetrics_Asset_Resultat,rdt_log.iloc[2770:,:],VaR_Riskmetrics_Asset_Resultat.iloc[0:1008,:],rdt_log.iloc[2770:3778,:],VaR_Riskmetrics_Asset_Resultat.iloc[1009:,:],rdt_log.iloc[3779:,:],\"nom de la méthode\")"
   ]
  },
  {
   "cell_type": "code",
   "execution_count": 39,
   "metadata": {},
   "outputs": [],
   "source": [
    "VaR_Riskmetrics_Asset_Resultat.to_csv(\"Riskmetrics Results.csv\")"
   ]
  },
  {
   "cell_type": "code",
   "execution_count": 47,
   "metadata": {},
   "outputs": [],
   "source": [
    "VaR_Riskmetrics_Asset_Resultat_2000=DataFrame(VaR_Riskmetrics_Asset[1011:,:],index=rdt_log.index[1011:],columns=stocks)\n",
    "VaR_Riskmetrics_Asset_Resultat_2000.to_csv(\"Riskmetrics Results 2000.csv\")"
   ]
  }
 ],
 "metadata": {
  "kernelspec": {
   "display_name": "Python 3",
   "language": "python",
   "name": "python3"
  },
  "language_info": {
   "codemirror_mode": {
    "name": "ipython",
    "version": 3
   },
   "file_extension": ".py",
   "mimetype": "text/x-python",
   "name": "python",
   "nbconvert_exporter": "python",
   "pygments_lexer": "ipython3",
   "version": "3.7.1"
  }
 },
 "nbformat": 4,
 "nbformat_minor": 2
}
